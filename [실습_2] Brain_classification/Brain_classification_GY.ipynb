{
  "nbformat": 4,
  "nbformat_minor": 0,
  "metadata": {
    "colab": {
      "name": "Untitled1.ipynb",
      "provenance": [],
      "include_colab_link": true
    },
    "kernelspec": {
      "name": "python3",
      "display_name": "Python 3"
    }
  },
  "cells": [
    {
      "cell_type": "markdown",
      "metadata": {
        "id": "view-in-github",
        "colab_type": "text"
      },
      "source": [
        "<a href=\"https://colab.research.google.com/github/YoungGaLee/AI_Study/blob/master/Brain_classification_GY.ipynb\" target=\"_parent\"><img src=\"https://colab.research.google.com/assets/colab-badge.svg\" alt=\"Open In Colab\"/></a>"
      ]
    },
    {
      "cell_type": "code",
      "metadata": {
        "id": "x8jbv9Bho2h4",
        "colab_type": "code",
        "colab": {}
      },
      "source": [
        ""
      ],
      "execution_count": 0,
      "outputs": []
    },
    {
      "cell_type": "code",
      "metadata": {
        "id": "0nw9GJKvo6cJ",
        "colab_type": "code",
        "outputId": "09b919f8-8c36-484a-fac6-d64c84afd5ef",
        "colab": {
          "base_uri": "https://localhost:8080/",
          "height": 231
        }
      },
      "source": [
        "\n",
        "import torch\n",
        "import torch.nn as nn\n",
        "import torch.nn.functional as F\n",
        "import torch.optim as optim\n",
        "import numpy as np\n",
        "import pandas as pd\n",
        "\n",
        "torch.manual_seed(1)\n",
        "np.random.seed(42)\n",
        "\n",
        "\n",
        "dataset_path = './인공지능 두뇌지수 데이터_1024.xlsx'\n",
        "\n",
        "\n",
        "data_select = ['Scholarly Output','Most recent publication','Citations',\n",
        "               'Citations per Publication','Field-Weighted Citation Impact',\n",
        "               'h-index','Country Number','Scholarly Output100',\n",
        "               'Citations per Publication100','Field-Weighted Citation Impact100','Degree']\n",
        "\n",
        "\n",
        "dataset = pd.read_excel(dataset_path, usecols = data_select, index_col=None)\n",
        "\n",
        "\n",
        "\n",
        "DATA = dataset.values\n",
        "\n",
        "np.random.shuffle(DATA)\n",
        "\n",
        "\n",
        "# dataset = pd.read_excel(dataset_path, sheet_name='Sheet1', header = 1, index_col=None, usecols=data_select)\n",
        "# dataset = np.genfromtxt(dataset_path, names = (*data_select), 'header = 1' index_col=None)\n",
        "\n",
        "x_data = DATA[:, 0:-1]\n",
        "y_data = DATA[:, -1]-1\n",
        "print(min(y_data),max(y_data))\n",
        "\n",
        "x_data = torch.FloatTensor(x_data)\n",
        "y_data = torch.FloatTensor(y_data)\n",
        "\n",
        "#print(x_train)\n",
        "validation = len(x_data)//90 #for train\n",
        "\n",
        "\n",
        "x_train = x_data[:validation + 1, :]\n",
        "y_train = y_data[:validation + 1]\n",
        "y_train = y_train.to(torch.long)\n",
        "x_valid = x_data[validation+1:, :]\n",
        "y_valid = y_data[validation+1:]\n",
        "\n",
        "\n",
        "\n",
        "\n",
        "\n",
        "linear1 = torch.nn.Linear(10, 256, bias=True)\n",
        "linear2 = torch.nn.Linear(256, 25, bias=True)\n",
        "\n",
        "ReLu = torch.nn.ReLU()\n",
        "\n",
        "model = torch.nn.Sequential(linear1, linear2, ReLu)\n",
        "\n",
        "'''\n",
        "##linear \n",
        "class MultivariateLinearRegressionModel(nn.Module):\n",
        "    def __init__(self):\n",
        "      super().__init__()\n",
        "      self.linear_1 = nn.Linear(10, 256, bias=True)\n",
        "      self.linear_2 = nn.Linear(256, 25.bias=True)\n",
        "    def forward(self, x):\n",
        "      \n",
        "        return self.linear(x)\n",
        "'''\n",
        "# optimizer 설정\n",
        "criterion = torch.nn.BCELoss()\n",
        "optimizer = torch.optim.Adam(model.parameters(), lr=1e-5)\n",
        "\n",
        "nb_epochs = 1000\n",
        "for epoch in range(nb_epochs + 1):\n",
        "\n",
        "    # Cost 계산 (2)\n",
        "    z = model(x_train)\n",
        "    cost = F.cross_entropy(z, y_train)\n",
        "\n",
        "    # cost로 H(x) 개선\n",
        "    optimizer.zero_grad()\n",
        "    cost.backward()\n",
        "    optimizer.step()\n",
        "\n",
        "    # 100번마다 로그 출력\n",
        "    if epoch % 100 == 0:\n",
        "        print('Epoch {:4d}/{} Cost: {:.6f}'.format(\n",
        "            epoch, nb_epochs, cost.item()\n",
        "        ))\n"
      ],
      "execution_count": 0,
      "outputs": [
        {
          "output_type": "stream",
          "text": [
            "0.0 24.0\n",
            "Epoch    0/1000 Cost: 304.495880\n",
            "Epoch  100/1000 Cost: 200.006897\n",
            "Epoch  200/1000 Cost: 133.828552\n",
            "Epoch  300/1000 Cost: 95.086266\n",
            "Epoch  400/1000 Cost: 53.659569\n",
            "Epoch  500/1000 Cost: 9.781720\n",
            "Epoch  600/1000 Cost: 4.138942\n",
            "Epoch  700/1000 Cost: 3.493958\n",
            "Epoch  800/1000 Cost: 3.344613\n",
            "Epoch  900/1000 Cost: 3.285332\n",
            "Epoch 1000/1000 Cost: 3.268635\n"
          ],
          "name": "stdout"
        }
      ]
    },
    {
      "cell_type": "code",
      "metadata": {
        "id": "iIVOvUGcpUYy",
        "colab_type": "code",
        "outputId": "efbf0afc-1515-452c-8396-6b7fede8df40",
        "colab": {
          "base_uri": "https://localhost:8080/",
          "height": 126
        }
      },
      "source": [
        "from google.colab import drive\n",
        "drive.mount('/content/drive')"
      ],
      "execution_count": 0,
      "outputs": [
        {
          "output_type": "stream",
          "text": [
            "Go to this URL in a browser: https://accounts.google.com/o/oauth2/auth?client_id=947318989803-6bn6qk8qdgf4n4g3pfee6491hc0brc4i.apps.googleusercontent.com&redirect_uri=urn%3aietf%3awg%3aoauth%3a2.0%3aoob&response_type=code&scope=email%20https%3a%2f%2fwww.googleapis.com%2fauth%2fdocs.test%20https%3a%2f%2fwww.googleapis.com%2fauth%2fdrive%20https%3a%2f%2fwww.googleapis.com%2fauth%2fdrive.photos.readonly%20https%3a%2f%2fwww.googleapis.com%2fauth%2fpeopleapi.readonly\n",
            "\n",
            "Enter your authorization code:\n",
            "··········\n",
            "Mounted at /content/drive\n"
          ],
          "name": "stdout"
        }
      ]
    }
  ]
}
